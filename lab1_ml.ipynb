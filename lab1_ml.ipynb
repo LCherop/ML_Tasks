{
  "nbformat": 4,
  "nbformat_minor": 0,
  "metadata": {
    "colab": {
      "name": "lab1_ml.ipynb",
      "provenance": [],
      "authorship_tag": "ABX9TyMwxmnCNvS/9UIOiLu3eDlB",
      "include_colab_link": true
    },
    "kernelspec": {
      "name": "python3",
      "display_name": "Python 3"
    },
    "language_info": {
      "name": "python"
    }
  },
  "cells": [
    {
      "cell_type": "markdown",
      "metadata": {
        "id": "view-in-github",
        "colab_type": "text"
      },
      "source": [
        "<a href=\"https://colab.research.google.com/github/LCherop/ML_Tasks/blob/individual/lab1_ml.ipynb\" target=\"_parent\"><img src=\"https://colab.research.google.com/assets/colab-badge.svg\" alt=\"Open In Colab\"/></a>"
      ]
    },
    {
      "cell_type": "code",
      "execution_count": null,
      "metadata": {
        "id": "agYgr770hfyc"
      },
      "outputs": [],
      "source": [
        "import random\n",
        "import numpy as np\n",
        "import pandas as pd\n",
        "from sklearn.metrics import mean_squared_error\n",
        "from sklearn import linear_model"
      ]
    },
    {
      "cell_type": "code",
      "source": [
        "\n",
        "NOPS = pd.DataFrame({\"office_size\" : np.random.normal(50, 2.5, size=100),\n",
        "                     \"office_price\"  : np.random.normal(500, 3.5, size=100)\n",
        "                     })"
      ],
      "metadata": {
        "id": "XRnlkwWohofS"
      },
      "execution_count": null,
      "outputs": []
    },
    {
      "cell_type": "code",
      "source": [
        "NOPS.plot(x ='office_size', y='office_price', kind = 'scatter')\t"
      ],
      "metadata": {
        "colab": {
          "base_uri": "https://localhost:8080/",
          "height": 298
        },
        "id": "bV0v1N-Kk_MF",
        "outputId": "0bd24b60-af4c-4de4-ae6d-6e0ab90b8732"
      },
      "execution_count": null,
      "outputs": [
        {
          "output_type": "execute_result",
          "data": {
            "text/plain": [
              "<matplotlib.axes._subplots.AxesSubplot at 0x7f37fd0e2550>"
            ]
          },
          "metadata": {},
          "execution_count": 5
        },
        {
          "output_type": "display_data",
          "data": {
            "text/plain": [
              "<Figure size 432x288 with 1 Axes>"
            ],
            "image/png": "[encoded data removed]"
          },
          "metadata": {
            "needs_background": "light"
          }
        }
      ]
    },
    {
      "cell_type": "code",
      "source": [
        "w = 0\n",
        "b = 5\n",
        "lr = 0.0001"
      ],
      "metadata": {
        "id": "B3B88PhwugFG"
      },
      "execution_count": null,
      "outputs": []
    },
    {
      "cell_type": "code",
      "source": [
        "#obtain line of best fit using y=wx+b y getting guessing a value for w an b\n",
        "\n",
        "NOPS['fake y'] =  (w*NOPS['office_size'] + b)"
      ],
      "metadata": {
        "id": "wptrsbKllBFw"
      },
      "execution_count": null,
      "outputs": []
    },
    {
      "cell_type": "code",
      "source": [
        "#compute error\n",
        "NOPS['error'] = ((NOPS['office_price']-NOPS['fake y'])**2)\n"
      ],
      "metadata": {
        "id": "Bc0MiaLXsJ54"
      },
      "execution_count": null,
      "outputs": []
    },
    {
      "cell_type": "code",
      "source": [
        "#mean square error = sum of erros/n=100\n",
        "loss_f = mean_squared_error(NOPS['office_price'],NOPS['fake y'])\n",
        "loss_f"
      ],
      "metadata": {
        "colab": {
          "base_uri": "https://localhost:8080/"
        },
        "id": "hYOT5Z3NsOPT",
        "outputId": "4b845c70-8b7e-44ba-919c-169ef6ec1adc"
      },
      "execution_count": null,
      "outputs": [
        {
          "output_type": "execute_result",
          "data": {
            "text/plain": [
              "244730.86656253922"
            ]
          },
          "metadata": {},
          "execution_count": 27
        }
      ]
    },
    {
      "cell_type": "code",
      "source": [
        "#new_w = old_w - (lr * (2x(Error)))\n",
        "#new_b = old_b - (lr - x - 2 (Error))\n",
        "def get_new_errors(new_y,x,y):\n",
        "  total1 = 0\n",
        "  total2 = 0\n",
        "\n",
        "  for i in NOPS:\n",
        "    dif = x -y\n",
        "    total1 += new_y * x -y\n",
        "    total2 += new_y * dif *x\n",
        "  \n",
        "  return total1 / 100, total2/100"
      ],
      "metadata": {
        "id": "KKDw97LetFTc"
      },
      "execution_count": null,
      "outputs": []
    },
    {
      "cell_type": "code",
      "source": [
        "for i in NOPS:\n",
        "  s1,s2 = get_new_errors(NOPS['fake y'],NOPS['office_size'],NOPS['office_price'])\n",
        "  w = w - lr * s2\n",
        "  b = b - lr * s1"
      ],
      "metadata": {
        "id": "5S83DZvjkvLt"
      },
      "execution_count": null,
      "outputs": []
    },
    {
      "cell_type": "code",
      "source": [
        "w"
      ],
      "metadata": {
        "colab": {
          "base_uri": "https://localhost:8080/"
        },
        "id": "4cVe96jrvRLL",
        "outputId": "c2a2cb21-a189-4baf-bfc5-8d18e9b98c8b"
      },
      "execution_count": null,
      "outputs": [
        {
          "output_type": "execute_result",
          "data": {
            "text/plain": [
              "0     1.868263\n",
              "1     1.946817\n",
              "2     1.839983\n",
              "3     1.829902\n",
              "4     1.684810\n",
              "        ...   \n",
              "95    1.769661\n",
              "96    1.962131\n",
              "97    1.938884\n",
              "98    1.742450\n",
              "99    1.962456\n",
              "Length: 100, dtype: float64"
            ]
          },
          "metadata": {},
          "execution_count": 30
        }
      ]
    },
    {
      "cell_type": "code",
      "source": [
        ""
      ],
      "metadata": {
        "id": "HX-phSkLmZ_b"
      },
      "execution_count": null,
      "outputs": []
    },
    {
      "cell_type": "code",
      "source": [
        "reg = linear_model.LinearRegression()\n",
        "reg.fit(NOPS[['office_size']],NOPS.office_price)"
      ],
      "metadata": {
        "colab": {
          "base_uri": "https://localhost:8080/"
        },
        "id": "xRProIWMofbg",
        "outputId": "9e97e37d-484d-4b45-9359-f5b7b7d88cf0"
      },
      "execution_count": null,
      "outputs": [
        {
          "output_type": "execute_result",
          "data": {
            "text/plain": [
              "LinearRegression()"
            ]
          },
          "metadata": {},
          "execution_count": 46
        }
      ]
    },
    {
      "cell_type": "code",
      "source": [
        "reg.coef_\n"
      ],
      "metadata": {
        "colab": {
          "base_uri": "https://localhost:8080/"
        },
        "id": "bwXZlrUPpMmF",
        "outputId": "6671fb1b-c29a-490b-ab64-f1743ff177df"
      },
      "execution_count": null,
      "outputs": [
        {
          "output_type": "execute_result",
          "data": {
            "text/plain": [
              "array([0.1589088])"
            ]
          },
          "metadata": {},
          "execution_count": 47
        }
      ]
    },
    {
      "cell_type": "code",
      "source": [
        "reg.intercept_"
      ],
      "metadata": {
        "colab": {
          "base_uri": "https://localhost:8080/"
        },
        "id": "1Pc0-rNJp8GH",
        "outputId": "cd92003a-a982-470a-d3f6-5a8eb629025f"
      },
      "execution_count": null,
      "outputs": [
        {
          "output_type": "execute_result",
          "data": {
            "text/plain": [
              "492.60799462134696"
            ]
          },
          "metadata": {},
          "execution_count": 48
        }
      ]
    },
    {
      "cell_type": "code",
      "source": [
        ""
      ],
      "metadata": {
        "id": "HW2tZygxv6KU"
      },
      "execution_count": null,
      "outputs": []
    }
  ]
}